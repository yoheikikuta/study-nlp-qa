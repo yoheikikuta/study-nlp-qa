{
 "cells": [
  {
   "cell_type": "markdown",
   "metadata": {},
   "source": [
    "# Solve addition as Question-Answer problem using Encoder-Decoder"
   ]
  },
  {
   "cell_type": "markdown",
   "metadata": {},
   "source": [
    "## Create datasets"
   ]
  },
  {
   "cell_type": "code",
   "execution_count": 1,
   "metadata": {},
   "outputs": [],
   "source": [
    "import numpy as np"
   ]
  },
  {
   "cell_type": "code",
   "execution_count": 2,
   "metadata": {},
   "outputs": [],
   "source": [
    "def n(digits=3):\n",
    "    number = ''\n",
    "    for i in range(np.random.randint(1, digits+1)):\n",
    "        number += np.random.choice(list('0123456789'))\n",
    "    return int(number)"
   ]
  },
  {
   "cell_type": "code",
   "execution_count": 3,
   "metadata": {},
   "outputs": [
    {
     "data": {
      "text/plain": [
       "468"
      ]
     },
     "execution_count": 3,
     "metadata": {},
     "output_type": "execute_result"
    }
   ],
   "source": [
    "n()"
   ]
  },
  {
   "cell_type": "code",
   "execution_count": 4,
   "metadata": {},
   "outputs": [],
   "source": [
    "a, b = n(), n()\n",
    "question = '{}+{}'.format(a, b)"
   ]
  },
  {
   "cell_type": "code",
   "execution_count": 5,
   "metadata": {},
   "outputs": [
    {
     "data": {
      "text/plain": [
       "'8+877'"
      ]
     },
     "execution_count": 5,
     "metadata": {},
     "output_type": "execute_result"
    }
   ],
   "source": [
    "question"
   ]
  },
  {
   "cell_type": "markdown",
   "metadata": {},
   "source": [
    "Use padding to get fixed length."
   ]
  },
  {
   "cell_type": "code",
   "execution_count": 6,
   "metadata": {},
   "outputs": [],
   "source": [
    "def padding(chars, maxlen):\n",
    "    return chars + ' ' * (maxlen - len(chars))"
   ]
  },
  {
   "cell_type": "code",
   "execution_count": 7,
   "metadata": {},
   "outputs": [],
   "source": [
    "digits = 3"
   ]
  },
  {
   "cell_type": "code",
   "execution_count": 8,
   "metadata": {},
   "outputs": [],
   "source": [
    "input_digits = digits * 2 + 1 #3-digit '+' 3-digit\n",
    "\n",
    "question = '{}+{}'.format(a, b)\n",
    "question = padding(question, input_digits)"
   ]
  },
  {
   "cell_type": "code",
   "execution_count": 9,
   "metadata": {},
   "outputs": [
    {
     "data": {
      "text/plain": [
       "'8+877  '"
      ]
     },
     "execution_count": 9,
     "metadata": {},
     "output_type": "execute_result"
    }
   ],
   "source": [
    "question"
   ]
  },
  {
   "cell_type": "markdown",
   "metadata": {},
   "source": [
    "Generate questions and answers."
   ]
  },
  {
   "cell_type": "code",
   "execution_count": 10,
   "metadata": {},
   "outputs": [],
   "source": [
    "digits = 3\n",
    "input_digits = digits * 2 + 1\n",
    "output_digits = digits + 1 #maximum 4-digits\n",
    "\n",
    "added = set()\n",
    "questions = []\n",
    "answers = []\n",
    "\n",
    "N = 20000\n",
    "\n",
    "for i in range(N):\n",
    "    a, b = n(), n()\n",
    "    pair = tuple(sorted((a, b))) #To eliminate redundancy\n",
    "    \n",
    "    #Pick up only non-existing question\n",
    "    if pair in added:\n",
    "        continue\n",
    "    \n",
    "    question = '{}+{}'.format(a, b)\n",
    "    question = padding(question, input_digits)\n",
    "    answer = str(a+b)\n",
    "    answer = padding(answer, output_digits)\n",
    "    \n",
    "    added.add(pair)\n",
    "    questions.append(question)\n",
    "    answers.append(answer)"
   ]
  },
  {
   "cell_type": "code",
   "execution_count": 11,
   "metadata": {},
   "outputs": [
    {
     "data": {
      "text/plain": [
       "['902+46 ', '409+439', '7+123  ', '45+6   ', '30+575 ']"
      ]
     },
     "execution_count": 11,
     "metadata": {},
     "output_type": "execute_result"
    }
   ],
   "source": [
    "questions[0:5]"
   ]
  },
  {
   "cell_type": "code",
   "execution_count": 12,
   "metadata": {},
   "outputs": [
    {
     "data": {
      "text/plain": [
       "['948 ', '848 ', '130 ', '51  ', '605 ']"
      ]
     },
     "execution_count": 12,
     "metadata": {},
     "output_type": "execute_result"
    }
   ],
   "source": [
    "answers[0:5]"
   ]
  },
  {
   "cell_type": "markdown",
   "metadata": {},
   "source": [
    "One hot encoding."
   ]
  },
  {
   "cell_type": "code",
   "execution_count": 13,
   "metadata": {},
   "outputs": [],
   "source": [
    "chars = '0123456789+ '\n",
    "char_indices = dict((c,i) for i,c in enumerate(chars))\n",
    "indices_char = dict((i,c) for i,c in enumerate(chars))"
   ]
  },
  {
   "cell_type": "code",
   "execution_count": 14,
   "metadata": {},
   "outputs": [
    {
     "data": {
      "text/plain": [
       "{' ': 11,\n",
       " '+': 10,\n",
       " '0': 0,\n",
       " '1': 1,\n",
       " '2': 2,\n",
       " '3': 3,\n",
       " '4': 4,\n",
       " '5': 5,\n",
       " '6': 6,\n",
       " '7': 7,\n",
       " '8': 8,\n",
       " '9': 9}"
      ]
     },
     "execution_count": 14,
     "metadata": {},
     "output_type": "execute_result"
    }
   ],
   "source": [
    "char_indices"
   ]
  },
  {
   "cell_type": "code",
   "execution_count": 15,
   "metadata": {},
   "outputs": [],
   "source": [
    "X = np.zeros((len(questions), input_digits, len(chars)), dtype=np.integer)\n",
    "Y = np.zeros((len(questions), output_digits, len(chars)), dtype=np.integer)"
   ]
  },
  {
   "cell_type": "code",
   "execution_count": 16,
   "metadata": {},
   "outputs": [
    {
     "data": {
      "text/plain": [
       "(11750, 7, 12)"
      ]
     },
     "execution_count": 16,
     "metadata": {},
     "output_type": "execute_result"
    }
   ],
   "source": [
    "X.shape"
   ]
  },
  {
   "cell_type": "code",
   "execution_count": 17,
   "metadata": {},
   "outputs": [],
   "source": [
    "for i in range(len(questions)):\n",
    "    for t, char in enumerate(questions[i]):\n",
    "        X[i, t, char_indices[char]] = 1\n",
    "    for t, char in enumerate(answers[i]):\n",
    "        Y[i, t, char_indices[char]] = 1"
   ]
  },
  {
   "cell_type": "code",
   "execution_count": 18,
   "metadata": {},
   "outputs": [
    {
     "data": {
      "text/plain": [
       "array([[0, 0, 0, 0, 0, 0, 0, 0, 0, 1, 0, 0],\n",
       "       [1, 0, 0, 0, 0, 0, 0, 0, 0, 0, 0, 0],\n",
       "       [0, 0, 1, 0, 0, 0, 0, 0, 0, 0, 0, 0],\n",
       "       [0, 0, 0, 0, 0, 0, 0, 0, 0, 0, 1, 0],\n",
       "       [0, 0, 0, 0, 1, 0, 0, 0, 0, 0, 0, 0],\n",
       "       [0, 0, 0, 0, 0, 0, 1, 0, 0, 0, 0, 0],\n",
       "       [0, 0, 0, 0, 0, 0, 0, 0, 0, 0, 0, 1]])"
      ]
     },
     "execution_count": 18,
     "metadata": {},
     "output_type": "execute_result"
    }
   ],
   "source": [
    "X[0,...]"
   ]
  },
  {
   "cell_type": "code",
   "execution_count": 19,
   "metadata": {},
   "outputs": [
    {
     "data": {
      "text/plain": [
       "array([[0, 0, 0, 0, 0, 0, 0, 0, 0, 1, 0, 0],\n",
       "       [0, 0, 0, 0, 1, 0, 0, 0, 0, 0, 0, 0],\n",
       "       [0, 0, 0, 0, 0, 0, 0, 0, 1, 0, 0, 0],\n",
       "       [0, 0, 0, 0, 0, 0, 0, 0, 0, 0, 0, 1]])"
      ]
     },
     "execution_count": 19,
     "metadata": {},
     "output_type": "execute_result"
    }
   ],
   "source": [
    "Y[0,...]"
   ]
  },
  {
   "cell_type": "markdown",
   "metadata": {},
   "source": [
    "Split total data into training and testing."
   ]
  },
  {
   "cell_type": "code",
   "execution_count": 20,
   "metadata": {},
   "outputs": [],
   "source": [
    "from sklearn.model_selection import train_test_split"
   ]
  },
  {
   "cell_type": "code",
   "execution_count": 21,
   "metadata": {},
   "outputs": [
    {
     "name": "stderr",
     "output_type": "stream",
     "text": [
      "/usr/local/lib/python3.5/dist-packages/sklearn/model_selection/_split.py:2026: FutureWarning: From version 0.21, test_size will always complement train_size unless both are specified.\n",
      "  FutureWarning)\n"
     ]
    }
   ],
   "source": [
    "X_train, X_validation, Y_train, Y_validation = train_test_split(X, Y, train_size=10000)"
   ]
  },
  {
   "cell_type": "code",
   "execution_count": 22,
   "metadata": {},
   "outputs": [
    {
     "data": {
      "text/plain": [
       "(10000, 7, 12)"
      ]
     },
     "execution_count": 22,
     "metadata": {},
     "output_type": "execute_result"
    }
   ],
   "source": [
    "X_train.shape"
   ]
  },
  {
   "cell_type": "code",
   "execution_count": 23,
   "metadata": {},
   "outputs": [
    {
     "data": {
      "text/plain": [
       "(1750, 7, 12)"
      ]
     },
     "execution_count": 23,
     "metadata": {},
     "output_type": "execute_result"
    }
   ],
   "source": [
    "X_validation.shape"
   ]
  },
  {
   "cell_type": "markdown",
   "metadata": {},
   "source": [
    "## Encoder-Decoder Tensorflow implementation"
   ]
  },
  {
   "cell_type": "code",
   "execution_count": 24,
   "metadata": {},
   "outputs": [],
   "source": [
    "import tensorflow as tf\n",
    "from tensorflow.contrib import rnn"
   ]
  },
  {
   "cell_type": "code",
   "execution_count": 25,
   "metadata": {},
   "outputs": [],
   "source": [
    "def weight_variable(shape):\n",
    "    initial = tf.truncated_normal(shape, stddev=0.1)\n",
    "    return tf.Variable(initial)\n",
    "\n",
    "def bias_variable(shape):\n",
    "    initial = tf.constant(0.1, shape=shape)\n",
    "    return tf.Variable(initial)"
   ]
  },
  {
   "cell_type": "code",
   "execution_count": 26,
   "metadata": {},
   "outputs": [],
   "source": [
    "def inference(x, y, n_batch, is_training, input_digits=None, output_digits=None, n_hidden=None, n_out=None):\n",
    "    #Encoder\n",
    "    encoder = rnn.BasicLSTMCell(n_hidden, forget_bias=1.0)\n",
    "    state = encoder.zero_state(n_batch, tf.float32)\n",
    "    \n",
    "    encoder_outputs =[]\n",
    "    encoder_states = []\n",
    "    \n",
    "    with tf.variable_scope('Encoder'):\n",
    "        for t in range(input_digits):\n",
    "            if t > 0:\n",
    "                tf.get_variable_scope().reuse_variables() #reuse variables for t > 0 steps\n",
    "            (output, state) = encoder(x[:, t, :], state) #encoder(batch, input, hidden)\n",
    "            encoder_outputs.append(output)\n",
    "            encoder_states.append(state)\n",
    "    \n",
    "    #Decoder\n",
    "    decoder = rnn.BasicLSTMCell(n_hidden, forget_bias=1.0)\n",
    "    state = encoder_states[-1] #Last state of encoder: this is for the initial input for decoder\n",
    "    decoder_outputs = [encoder_outputs[-1]] #Last output of encoder: this is for the initial input for decoder\n",
    "    \n",
    "    V = weight_variable([n_hidden, n_out])\n",
    "    c = bias_variable([n_out])\n",
    "    outputs = [] #List for storing predictions\n",
    "    \n",
    "    with tf.variable_scope('Decoder'):\n",
    "        for t in range(1, output_digits):\n",
    "            if t > 1:\n",
    "                tf.get_variable_scope().reuse_variables()\n",
    "            \n",
    "            if is_training is True:\n",
    "                (output, state) = decoder(y[:, t-1, :], state) #decoder's input is the previous time step\n",
    "            else:\n",
    "                linear = tf.matmul(decoder_outputs[-1], V) + c\n",
    "                out = tf.nn.softmax(linear)\n",
    "                outputs.append(out)\n",
    "                out = tf.one_hot(tf.argmax(out, -1), depth=output_digits)\n",
    "                (output, state) = decoder(out, state)\n",
    "            \n",
    "            decoder_outputs.append(output)\n",
    "    \n",
    "    if is_training is True:\n",
    "        output = tf.reshape(tf.concat(decoder_outputs, axis=1), [-1, output_digits, n_hidden])\n",
    "        linear = tf.einsum('ijk,kl->ijl', output, V) + c #output dim: (batch, output_digits, n_hidden)\n",
    "        \n",
    "        return tf.nn.softmax(linear)\n",
    "    else:\n",
    "        linear = tf.matmul(decoder_outputs[-1], V) + c\n",
    "        out = tf.nn.softmax(linear)\n",
    "        outputs.append(out)\n",
    "        output = tf.reshape(tf.concat(outputs, axis=1), [-1, output_digits, n_out])\n",
    "        \n",
    "        return output"
   ]
  },
  {
   "cell_type": "code",
   "execution_count": 27,
   "metadata": {},
   "outputs": [],
   "source": [
    "def loss(y, t):\n",
    "    cross_entropy = tf.reduce_mean(\n",
    "        -tf.reduce_sum(t * tf.log(tf.clip_by_value(y, 1e-10, 1.0)), reduction_indices=[1]))\n",
    "    \n",
    "    return cross_entropy"
   ]
  },
  {
   "cell_type": "code",
   "execution_count": 28,
   "metadata": {},
   "outputs": [],
   "source": [
    "def training(loss):\n",
    "    optimizer = tf.train.AdamOptimizer(learning_rate=0.001, beta1=0.9, beta2=0.999)\n",
    "    train_step = optimizer.minimize(loss)\n",
    "    \n",
    "    return train_step"
   ]
  },
  {
   "cell_type": "code",
   "execution_count": 29,
   "metadata": {},
   "outputs": [],
   "source": [
    "def accuracy(y, t):\n",
    "    correct_prediction = tf.equal(tf.argmax(y, -1), tf.argmax(t, -1))\n",
    "    accuracy = tf.reduce_mean(tf.cast(correct_prediction, tf.float32))\n",
    "    \n",
    "    return accuracy"
   ]
  },
  {
   "cell_type": "markdown",
   "metadata": {},
   "source": [
    "## Training"
   ]
  },
  {
   "cell_type": "code",
   "execution_count": 30,
   "metadata": {},
   "outputs": [],
   "source": [
    "n_in = len(chars)\n",
    "n_hidden = 128\n",
    "n_out = len(chars)\n",
    "\n",
    "x = tf.placeholder(tf.float32, shape=[None, input_digits, n_in])\n",
    "t = tf.placeholder(tf.float32, shape=[None, output_digits, n_out])\n",
    "n_batch = tf.placeholder(tf.int32, shape=[]) #Need explicit shape\n",
    "is_training = tf.placeholder(tf.bool, shape=[])\n",
    "\n",
    "y = inference(x, t, n_batch, is_training\n",
    "              , input_digits=input_digits, output_digits=output_digits, n_hidden=n_hidden, n_out=n_out)\n",
    "\n",
    "loss = loss(y, t)\n",
    "train_step = training(loss)\n",
    "\n",
    "acc = accuracy(y, t)"
   ]
  },
  {
   "cell_type": "code",
   "execution_count": 31,
   "metadata": {},
   "outputs": [],
   "source": [
    "epochs = 200\n",
    "\n",
    "batch_size = 16\n",
    "n_batches = len(X_train) // batch_size\n",
    "\n",
    "N_validation = len(X_validation)"
   ]
  },
  {
   "cell_type": "code",
   "execution_count": 32,
   "metadata": {},
   "outputs": [],
   "source": [
    "sess = tf.Session()\n",
    "\n",
    "init = tf.global_variables_initializer()\n",
    "sess.run(init)"
   ]
  },
  {
   "cell_type": "code",
   "execution_count": 33,
   "metadata": {},
   "outputs": [],
   "source": [
    "from sklearn.utils import shuffle"
   ]
  },
  {
   "cell_type": "code",
   "execution_count": 34,
   "metadata": {
    "scrolled": false
   },
   "outputs": [
    {
     "name": "stdout",
     "output_type": "stream",
     "text": [
      "epoch: 0, val_loss: 0.5688, val_acc 0.3853\n",
      "----------------------------------------\n",
      "Question: 94+88    Prediction: 909   T/F: F\n",
      "----------------------------------------\n",
      "Question: 8+966    Prediction: 109   T/F: F\n",
      "----------------------------------------\n",
      "Question: 442+931  Prediction: 444   T/F: F\n",
      "----------------------------------------\n",
      "Question: 591+77   Prediction: 109   T/F: F\n",
      "----------------------------------------\n",
      "Question: 16+27    Prediction: 72    T/F: F\n",
      "----------------------------------------\n",
      "Question: 656+781  Prediction: 166   T/F: F\n",
      "----------------------------------------\n",
      "Question: 8+76     Prediction: 77    T/F: F\n",
      "----------------------------------------\n",
      "Question: 3+354    Prediction: 44    T/F: F\n",
      "----------------------------------------\n",
      "Question: 673+21   Prediction: 732   T/F: F\n",
      "----------------------------------------\n",
      "Question: 982+249  Prediction: 100   T/F: F\n",
      "epoch: 1, val_loss: 0.5428, val_acc 0.4021\n",
      "epoch: 2, val_loss: 0.5146, val_acc 0.4286\n",
      "epoch: 3, val_loss: 0.4659, val_acc 0.4886\n",
      "epoch: 4, val_loss: 0.4256, val_acc 0.5274\n",
      "epoch: 5, val_loss: 0.3959, val_acc 0.5579\n",
      "epoch: 6, val_loss: 0.3739, val_acc 0.5834\n",
      "epoch: 7, val_loss: 0.3636, val_acc 0.5926\n",
      "epoch: 8, val_loss: 0.3461, val_acc 0.6120\n",
      "epoch: 9, val_loss: 0.3244, val_acc 0.6274\n",
      "epoch: 10, val_loss: 0.3136, val_acc 0.6429\n",
      "----------------------------------------\n",
      "Question: 291+8    Prediction: 299   T/F: T\n",
      "----------------------------------------\n",
      "Question: 254+8    Prediction: 253   T/F: F\n",
      "----------------------------------------\n",
      "Question: 963+335  Prediction: 1303  T/F: F\n",
      "----------------------------------------\n",
      "Question: 74+587   Prediction: 625   T/F: F\n",
      "----------------------------------------\n",
      "Question: 52+339   Prediction: 394   T/F: F\n",
      "----------------------------------------\n",
      "Question: 6+25     Prediction: 31    T/F: T\n",
      "----------------------------------------\n",
      "Question: 95+831   Prediction: 928   T/F: F\n",
      "----------------------------------------\n",
      "Question: 7+215    Prediction: 228   T/F: F\n",
      "----------------------------------------\n",
      "Question: 60+42    Prediction: 94    T/F: F\n",
      "----------------------------------------\n",
      "Question: 188+977  Prediction: 1066  T/F: F\n",
      "epoch: 11, val_loss: 0.3009, val_acc 0.6526\n",
      "epoch: 12, val_loss: 0.2864, val_acc 0.6669\n",
      "epoch: 13, val_loss: 0.2690, val_acc 0.6906\n",
      "epoch: 14, val_loss: 0.2602, val_acc 0.6986\n",
      "epoch: 15, val_loss: 0.2443, val_acc 0.7101\n",
      "epoch: 16, val_loss: 0.2259, val_acc 0.7277\n",
      "epoch: 17, val_loss: 0.2186, val_acc 0.7376\n",
      "epoch: 18, val_loss: 0.2097, val_acc 0.7497\n",
      "epoch: 19, val_loss: 0.2002, val_acc 0.7581\n",
      "epoch: 20, val_loss: 0.1912, val_acc 0.7741\n",
      "----------------------------------------\n",
      "Question: 302+7    Prediction: 300   T/F: F\n",
      "----------------------------------------\n",
      "Question: 26+89    Prediction: 124   T/F: F\n",
      "----------------------------------------\n",
      "Question: 802+159  Prediction: 831   T/F: F\n",
      "----------------------------------------\n",
      "Question: 21+12    Prediction: 33    T/F: T\n",
      "----------------------------------------\n",
      "Question: 23+9     Prediction: 31    T/F: F\n",
      "----------------------------------------\n",
      "Question: 5+95     Prediction: 900   T/F: F\n",
      "----------------------------------------\n",
      "Question: 892+8    Prediction: 899   T/F: F\n",
      "----------------------------------------\n",
      "Question: 1+55     Prediction: 54    T/F: F\n",
      "----------------------------------------\n",
      "Question: 66+78    Prediction: 144   T/F: T\n",
      "----------------------------------------\n",
      "Question: 854+652  Prediction: 1417  T/F: F\n",
      "epoch: 21, val_loss: 0.1922, val_acc 0.7756\n",
      "epoch: 22, val_loss: 0.1863, val_acc 0.7841\n",
      "epoch: 23, val_loss: 0.1784, val_acc 0.7901\n",
      "epoch: 24, val_loss: 0.1771, val_acc 0.7896\n",
      "epoch: 25, val_loss: 0.1794, val_acc 0.7951\n",
      "epoch: 26, val_loss: 0.1728, val_acc 0.7984\n",
      "epoch: 27, val_loss: 0.1789, val_acc 0.7967\n",
      "epoch: 28, val_loss: 0.1751, val_acc 0.8084\n",
      "epoch: 29, val_loss: 0.1819, val_acc 0.8027\n",
      "epoch: 30, val_loss: 0.1824, val_acc 0.8059\n",
      "----------------------------------------\n",
      "Question: 7+704    Prediction: 711   T/F: T\n",
      "----------------------------------------\n",
      "Question: 352+32   Prediction: 374   T/F: F\n",
      "----------------------------------------\n",
      "Question: 244+881  Prediction: 1165  T/F: F\n",
      "----------------------------------------\n",
      "Question: 555+70   Prediction: 625   T/F: T\n",
      "----------------------------------------\n",
      "Question: 460+2    Prediction: 462   T/F: T\n",
      "----------------------------------------\n",
      "Question: 448+26   Prediction: 474   T/F: T\n",
      "----------------------------------------\n",
      "Question: 671+64   Prediction: 725   T/F: F\n",
      "----------------------------------------\n",
      "Question: 6+916    Prediction: 922   T/F: T\n",
      "----------------------------------------\n",
      "Question: 66+9     Prediction: 75    T/F: T\n",
      "----------------------------------------\n",
      "Question: 511+22   Prediction: 524   T/F: F\n",
      "epoch: 31, val_loss: 0.1848, val_acc 0.8056\n",
      "epoch: 32, val_loss: 0.1826, val_acc 0.8077\n",
      "epoch: 33, val_loss: 0.1906, val_acc 0.8103\n",
      "epoch: 34, val_loss: 0.1918, val_acc 0.8129\n",
      "epoch: 35, val_loss: 0.1945, val_acc 0.8119\n",
      "epoch: 36, val_loss: 0.1960, val_acc 0.8087\n",
      "epoch: 37, val_loss: 0.1992, val_acc 0.8123\n",
      "epoch: 38, val_loss: 0.1913, val_acc 0.8213\n",
      "epoch: 39, val_loss: 0.2007, val_acc 0.8159\n",
      "epoch: 40, val_loss: 0.2130, val_acc 0.8029\n",
      "----------------------------------------\n",
      "Question: 90+81    Prediction: 161   T/F: F\n",
      "----------------------------------------\n",
      "Question: 84+901   Prediction: 984   T/F: F\n",
      "----------------------------------------\n",
      "Question: 320+1    Prediction: 321   T/F: T\n",
      "----------------------------------------\n",
      "Question: 10+734   Prediction: 743   T/F: F\n",
      "----------------------------------------\n",
      "Question: 3+55     Prediction: 57    T/F: F\n",
      "----------------------------------------\n",
      "Question: 806+156  Prediction: 8232  T/F: F\n",
      "----------------------------------------\n",
      "Question: 9+849    Prediction: 848   T/F: F\n",
      "----------------------------------------\n",
      "Question: 693+29   Prediction: 723   T/F: F\n",
      "----------------------------------------\n",
      "Question: 813+55   Prediction: 868   T/F: T\n",
      "----------------------------------------\n",
      "Question: 903+76   Prediction: 989   T/F: F\n",
      "epoch: 41, val_loss: 0.2153, val_acc 0.8081\n",
      "epoch: 42, val_loss: 0.2085, val_acc 0.8171\n",
      "epoch: 43, val_loss: 0.2030, val_acc 0.8196\n",
      "epoch: 44, val_loss: 0.2152, val_acc 0.8189\n",
      "epoch: 45, val_loss: 0.2353, val_acc 0.8050\n",
      "epoch: 46, val_loss: 0.2158, val_acc 0.8184\n",
      "epoch: 47, val_loss: 0.2171, val_acc 0.8174\n",
      "epoch: 48, val_loss: 0.2444, val_acc 0.7986\n",
      "epoch: 49, val_loss: 0.2249, val_acc 0.8137\n",
      "epoch: 50, val_loss: 0.2195, val_acc 0.8229\n",
      "----------------------------------------\n",
      "Question: 9+844    Prediction: 853   T/F: T\n",
      "----------------------------------------\n",
      "Question: 66+65    Prediction: 121   T/F: F\n",
      "----------------------------------------\n",
      "Question: 58+42    Prediction: 100   T/F: T\n",
      "----------------------------------------\n",
      "Question: 915+285  Prediction: 1131  T/F: F\n",
      "----------------------------------------\n",
      "Question: 770+335  Prediction: 1114  T/F: F\n",
      "----------------------------------------\n",
      "Question: 7+219    Prediction: 226   T/F: T\n",
      "----------------------------------------\n",
      "Question: 642+4    Prediction: 656   T/F: F\n",
      "----------------------------------------\n",
      "Question: 342+58   Prediction: 401   T/F: F\n",
      "----------------------------------------\n",
      "Question: 88+719   Prediction: 807   T/F: T\n",
      "----------------------------------------\n",
      "Question: 343+516  Prediction: 889   T/F: F\n",
      "epoch: 51, val_loss: 0.2360, val_acc 0.8117\n",
      "epoch: 52, val_loss: 0.2357, val_acc 0.8104\n",
      "epoch: 53, val_loss: 0.2223, val_acc 0.8233\n",
      "epoch: 54, val_loss: 0.2218, val_acc 0.8246\n",
      "epoch: 55, val_loss: 0.2260, val_acc 0.8223\n",
      "epoch: 56, val_loss: 0.3181, val_acc 0.7627\n",
      "epoch: 57, val_loss: 0.2406, val_acc 0.8071\n",
      "epoch: 58, val_loss: 0.2255, val_acc 0.8281\n",
      "epoch: 59, val_loss: 0.2252, val_acc 0.8274\n",
      "epoch: 60, val_loss: 0.2247, val_acc 0.8289\n",
      "----------------------------------------\n",
      "Question: 909+148  Prediction: 1047  T/F: F\n",
      "----------------------------------------\n",
      "Question: 7+215    Prediction: 222   T/F: T\n",
      "----------------------------------------\n",
      "Question: 601+85   Prediction: 685   T/F: F\n",
      "----------------------------------------\n",
      "Question: 320+1    Prediction: 321   T/F: T\n",
      "----------------------------------------\n",
      "Question: 742+86   Prediction: 828   T/F: T\n",
      "----------------------------------------\n",
      "Question: 70+858   Prediction: 928   T/F: T\n",
      "----------------------------------------\n",
      "Question: 4+420    Prediction: 424   T/F: T\n",
      "----------------------------------------\n",
      "Question: 58+42    Prediction: 100   T/F: T\n",
      "----------------------------------------\n",
      "Question: 99+133   Prediction: 222   T/F: F\n",
      "----------------------------------------\n",
      "Question: 1+453    Prediction: 445   T/F: F\n"
     ]
    },
    {
     "name": "stdout",
     "output_type": "stream",
     "text": [
      "epoch: 61, val_loss: 0.2267, val_acc 0.8281\n",
      "epoch: 62, val_loss: 0.2446, val_acc 0.8209\n",
      "epoch: 63, val_loss: 0.2403, val_acc 0.8134\n",
      "epoch: 64, val_loss: 0.2343, val_acc 0.8230\n",
      "epoch: 65, val_loss: 0.2336, val_acc 0.8251\n",
      "epoch: 66, val_loss: 0.2314, val_acc 0.8287\n",
      "epoch: 67, val_loss: 0.2359, val_acc 0.8281\n",
      "epoch: 68, val_loss: 0.2385, val_acc 0.8274\n",
      "epoch: 69, val_loss: 0.3695, val_acc 0.7507\n",
      "epoch: 70, val_loss: 0.2450, val_acc 0.8101\n",
      "----------------------------------------\n",
      "Question: 1+153    Prediction: 154   T/F: T\n",
      "----------------------------------------\n",
      "Question: 37+6     Prediction: 44    T/F: F\n",
      "----------------------------------------\n",
      "Question: 79+89    Prediction: 168   T/F: T\n",
      "----------------------------------------\n",
      "Question: 83+40    Prediction: 123   T/F: T\n",
      "----------------------------------------\n",
      "Question: 720+646  Prediction: 1066  T/F: F\n",
      "----------------------------------------\n",
      "Question: 4+33     Prediction: 38    T/F: F\n",
      "----------------------------------------\n",
      "Question: 4+93     Prediction: 97    T/F: T\n",
      "----------------------------------------\n",
      "Question: 0+251    Prediction: 252   T/F: F\n",
      "----------------------------------------\n",
      "Question: 705+126  Prediction: 721   T/F: F\n",
      "----------------------------------------\n",
      "Question: 593+230  Prediction: 812   T/F: F\n",
      "epoch: 71, val_loss: 0.2340, val_acc 0.8244\n",
      "epoch: 72, val_loss: 0.2310, val_acc 0.8281\n",
      "epoch: 73, val_loss: 0.2350, val_acc 0.8284\n",
      "epoch: 74, val_loss: 0.2395, val_acc 0.8246\n",
      "epoch: 75, val_loss: 0.2396, val_acc 0.8306\n",
      "epoch: 76, val_loss: 0.2455, val_acc 0.8273\n",
      "epoch: 77, val_loss: 0.2510, val_acc 0.8277\n",
      "epoch: 78, val_loss: 0.2681, val_acc 0.8094\n",
      "epoch: 79, val_loss: 0.2595, val_acc 0.8146\n",
      "epoch: 80, val_loss: 0.2426, val_acc 0.8286\n",
      "----------------------------------------\n",
      "Question: 289+1    Prediction: 291   T/F: F\n",
      "----------------------------------------\n",
      "Question: 509+2    Prediction: 511   T/F: T\n",
      "----------------------------------------\n",
      "Question: 15+31    Prediction: 46    T/F: T\n",
      "----------------------------------------\n",
      "Question: 1+696    Prediction: 687   T/F: F\n",
      "----------------------------------------\n",
      "Question: 0+59     Prediction: 59    T/F: T\n",
      "----------------------------------------\n",
      "Question: 266+291  Prediction: 456   T/F: F\n",
      "----------------------------------------\n",
      "Question: 62+0     Prediction: 62    T/F: T\n",
      "----------------------------------------\n",
      "Question: 952+94   Prediction: 1046  T/F: T\n",
      "----------------------------------------\n",
      "Question: 516+7    Prediction: 523   T/F: T\n",
      "----------------------------------------\n",
      "Question: 3+940    Prediction: 944   T/F: F\n",
      "epoch: 81, val_loss: 0.2464, val_acc 0.8283\n",
      "epoch: 82, val_loss: 0.2486, val_acc 0.8287\n",
      "epoch: 83, val_loss: 0.2509, val_acc 0.8277\n",
      "epoch: 84, val_loss: 0.2555, val_acc 0.8287\n",
      "epoch: 85, val_loss: 0.2573, val_acc 0.8281\n",
      "epoch: 86, val_loss: 0.3502, val_acc 0.7811\n",
      "epoch: 87, val_loss: 0.2691, val_acc 0.8100\n",
      "epoch: 88, val_loss: 0.2608, val_acc 0.8176\n",
      "epoch: 89, val_loss: 0.2533, val_acc 0.8236\n",
      "epoch: 90, val_loss: 0.2563, val_acc 0.8214\n",
      "----------------------------------------\n",
      "Question: 473+34   Prediction: 417   T/F: F\n",
      "----------------------------------------\n",
      "Question: 4+80     Prediction: 84    T/F: T\n",
      "----------------------------------------\n",
      "Question: 53+37    Prediction: 90    T/F: T\n",
      "----------------------------------------\n",
      "Question: 16+838   Prediction: 843   T/F: F\n",
      "----------------------------------------\n",
      "Question: 492+464  Prediction: 946   T/F: F\n",
      "----------------------------------------\n",
      "Question: 8+15     Prediction: 23    T/F: T\n",
      "----------------------------------------\n",
      "Question: 6+482    Prediction: 488   T/F: T\n",
      "----------------------------------------\n",
      "Question: 0+988    Prediction: 989   T/F: F\n",
      "----------------------------------------\n",
      "Question: 72+345   Prediction: 427   T/F: F\n",
      "----------------------------------------\n",
      "Question: 3+385    Prediction: 388   T/F: T\n",
      "epoch: 91, val_loss: 0.2630, val_acc 0.8204\n",
      "epoch: 92, val_loss: 0.2919, val_acc 0.8051\n",
      "epoch: 93, val_loss: 0.2662, val_acc 0.8193\n",
      "epoch: 94, val_loss: 0.2575, val_acc 0.8223\n",
      "epoch: 95, val_loss: 0.2629, val_acc 0.8253\n",
      "epoch: 96, val_loss: 0.2860, val_acc 0.8129\n",
      "epoch: 97, val_loss: 0.2829, val_acc 0.8064\n",
      "epoch: 98, val_loss: 0.2729, val_acc 0.8171\n",
      "epoch: 99, val_loss: 0.2603, val_acc 0.8254\n",
      "epoch: 100, val_loss: 0.2543, val_acc 0.8296\n",
      "----------------------------------------\n",
      "Question: 237+348  Prediction: 565   T/F: F\n",
      "----------------------------------------\n",
      "Question: 333+51   Prediction: 373   T/F: F\n",
      "----------------------------------------\n",
      "Question: 535+2    Prediction: 537   T/F: T\n",
      "----------------------------------------\n",
      "Question: 729+633  Prediction: 1363  T/F: F\n",
      "----------------------------------------\n",
      "Question: 3+974    Prediction: 977   T/F: T\n",
      "----------------------------------------\n",
      "Question: 9+12     Prediction: 21    T/F: T\n",
      "----------------------------------------\n",
      "Question: 38+48    Prediction: 87    T/F: F\n",
      "----------------------------------------\n",
      "Question: 802+159  Prediction: 830   T/F: F\n",
      "----------------------------------------\n",
      "Question: 270+9    Prediction: 289   T/F: F\n",
      "----------------------------------------\n",
      "Question: 3+93     Prediction: 96    T/F: T\n",
      "epoch: 101, val_loss: 0.2815, val_acc 0.8109\n",
      "epoch: 102, val_loss: 0.2769, val_acc 0.8133\n",
      "epoch: 103, val_loss: 0.2702, val_acc 0.8220\n",
      "epoch: 104, val_loss: 0.2637, val_acc 0.8246\n",
      "epoch: 105, val_loss: 0.2742, val_acc 0.8190\n",
      "epoch: 106, val_loss: 0.2901, val_acc 0.8147\n",
      "epoch: 107, val_loss: 0.2729, val_acc 0.8237\n",
      "epoch: 108, val_loss: 0.2667, val_acc 0.8231\n",
      "epoch: 109, val_loss: 0.2654, val_acc 0.8226\n",
      "epoch: 110, val_loss: 0.3232, val_acc 0.7931\n",
      "----------------------------------------\n",
      "Question: 625+4    Prediction: 629   T/F: T\n",
      "----------------------------------------\n",
      "Question: 772+30   Prediction: 802   T/F: T\n",
      "----------------------------------------\n",
      "Question: 782+0    Prediction: 782   T/F: T\n",
      "----------------------------------------\n",
      "Question: 103+13   Prediction: 115   T/F: F\n",
      "----------------------------------------\n",
      "Question: 2+598    Prediction: 691   T/F: F\n",
      "----------------------------------------\n",
      "Question: 786+39   Prediction: 823   T/F: F\n",
      "----------------------------------------\n",
      "Question: 63+536   Prediction: 599   T/F: T\n",
      "----------------------------------------\n",
      "Question: 196+113  Prediction: 308   T/F: F\n",
      "----------------------------------------\n",
      "Question: 77+204   Prediction: 380   T/F: F\n",
      "----------------------------------------\n",
      "Question: 918+8    Prediction: 926   T/F: T\n",
      "epoch: 111, val_loss: 0.2923, val_acc 0.8096\n",
      "epoch: 112, val_loss: 0.2713, val_acc 0.8214\n",
      "epoch: 113, val_loss: 0.2719, val_acc 0.8236\n",
      "epoch: 114, val_loss: 0.3009, val_acc 0.8143\n",
      "epoch: 115, val_loss: 0.2931, val_acc 0.8123\n",
      "epoch: 116, val_loss: 0.2898, val_acc 0.8159\n",
      "epoch: 117, val_loss: 0.2883, val_acc 0.8149\n",
      "epoch: 118, val_loss: 0.2744, val_acc 0.8250\n",
      "epoch: 119, val_loss: 0.2953, val_acc 0.8124\n",
      "epoch: 120, val_loss: 0.2911, val_acc 0.8139\n",
      "----------------------------------------\n",
      "Question: 555+195  Prediction: 761   T/F: F\n",
      "----------------------------------------\n",
      "Question: 71+578   Prediction: 640   T/F: F\n",
      "----------------------------------------\n",
      "Question: 74+88    Prediction: 162   T/F: T\n",
      "----------------------------------------\n",
      "Question: 28+75    Prediction: 103   T/F: T\n",
      "----------------------------------------\n",
      "Question: 692+1    Prediction: 693   T/F: T\n",
      "----------------------------------------\n",
      "Question: 6+895    Prediction: 901   T/F: T\n",
      "----------------------------------------\n",
      "Question: 85+94    Prediction: 189   T/F: F\n",
      "----------------------------------------\n",
      "Question: 241+1    Prediction: 242   T/F: T\n",
      "----------------------------------------\n",
      "Question: 385+578  Prediction: 954   T/F: F\n",
      "----------------------------------------\n",
      "Question: 744+66   Prediction: 800   T/F: F\n",
      "epoch: 121, val_loss: 0.2923, val_acc 0.8160\n",
      "epoch: 122, val_loss: 0.2946, val_acc 0.8196\n",
      "epoch: 123, val_loss: 0.3001, val_acc 0.8103\n",
      "epoch: 124, val_loss: 0.2914, val_acc 0.8176\n",
      "epoch: 125, val_loss: 0.2763, val_acc 0.8239\n",
      "epoch: 126, val_loss: 0.3091, val_acc 0.8107\n",
      "epoch: 127, val_loss: 0.2922, val_acc 0.8161\n",
      "epoch: 128, val_loss: 0.2870, val_acc 0.8227\n",
      "epoch: 129, val_loss: 0.2915, val_acc 0.8209\n",
      "epoch: 130, val_loss: 0.2896, val_acc 0.8204\n",
      "----------------------------------------\n",
      "Question: 103+81   Prediction: 184   T/F: T\n",
      "----------------------------------------\n",
      "Question: 127+76   Prediction: 293   T/F: F\n",
      "----------------------------------------\n",
      "Question: 7+22     Prediction: 29    T/F: T\n",
      "----------------------------------------\n",
      "Question: 247+69   Prediction: 325   T/F: F\n",
      "----------------------------------------\n",
      "Question: 178+82   Prediction: 260   T/F: T\n",
      "----------------------------------------\n",
      "Question: 4+69     Prediction: 72    T/F: F\n",
      "----------------------------------------\n",
      "Question: 7+43     Prediction: 40    T/F: F\n",
      "----------------------------------------\n",
      "Question: 919+92   Prediction: 1001  T/F: F\n",
      "----------------------------------------\n",
      "Question: 8+62     Prediction: 70    T/F: T\n",
      "----------------------------------------\n",
      "Question: 903+185  Prediction: 1008  T/F: F\n"
     ]
    },
    {
     "name": "stdout",
     "output_type": "stream",
     "text": [
      "epoch: 131, val_loss: 0.2915, val_acc 0.8200\n",
      "epoch: 132, val_loss: 0.2999, val_acc 0.8151\n",
      "epoch: 133, val_loss: 0.2988, val_acc 0.8163\n",
      "epoch: 134, val_loss: 0.2907, val_acc 0.8213\n",
      "epoch: 135, val_loss: 0.3093, val_acc 0.8104\n",
      "epoch: 136, val_loss: 0.2908, val_acc 0.8241\n",
      "epoch: 137, val_loss: 0.2988, val_acc 0.8217\n",
      "epoch: 138, val_loss: 0.2829, val_acc 0.8300\n",
      "epoch: 139, val_loss: 0.2831, val_acc 0.8291\n",
      "epoch: 140, val_loss: 0.2844, val_acc 0.8293\n",
      "----------------------------------------\n",
      "Question: 369+35   Prediction: 394   T/F: F\n",
      "----------------------------------------\n",
      "Question: 65+29    Prediction: 93    T/F: F\n",
      "----------------------------------------\n",
      "Question: 503+351  Prediction: 865   T/F: F\n",
      "----------------------------------------\n",
      "Question: 10+78    Prediction: 88    T/F: T\n",
      "----------------------------------------\n",
      "Question: 656+17   Prediction: 683   T/F: F\n",
      "----------------------------------------\n",
      "Question: 10+5     Prediction: 15    T/F: T\n",
      "----------------------------------------\n",
      "Question: 90+57    Prediction: 148   T/F: F\n",
      "----------------------------------------\n",
      "Question: 379+406  Prediction: 785   T/F: T\n",
      "----------------------------------------\n",
      "Question: 283+87   Prediction: 370   T/F: T\n",
      "----------------------------------------\n",
      "Question: 1+96     Prediction: 97    T/F: T\n",
      "epoch: 141, val_loss: 0.2869, val_acc 0.8289\n",
      "epoch: 142, val_loss: 0.2888, val_acc 0.8296\n",
      "epoch: 143, val_loss: 0.2913, val_acc 0.8296\n",
      "epoch: 144, val_loss: 0.2957, val_acc 0.8289\n",
      "epoch: 145, val_loss: 0.2984, val_acc 0.8289\n",
      "epoch: 146, val_loss: 0.3045, val_acc 0.8271\n",
      "epoch: 147, val_loss: 0.3183, val_acc 0.8233\n",
      "epoch: 148, val_loss: 0.3227, val_acc 0.8091\n",
      "epoch: 149, val_loss: 0.3007, val_acc 0.8173\n",
      "epoch: 150, val_loss: 0.2982, val_acc 0.8251\n",
      "----------------------------------------\n",
      "Question: 335+450  Prediction: 885   T/F: F\n",
      "----------------------------------------\n",
      "Question: 0+405    Prediction: 405   T/F: T\n",
      "----------------------------------------\n",
      "Question: 70+145   Prediction: 225   T/F: F\n",
      "----------------------------------------\n",
      "Question: 2+437    Prediction: 439   T/F: T\n",
      "----------------------------------------\n",
      "Question: 733+45   Prediction: 778   T/F: T\n",
      "----------------------------------------\n",
      "Question: 909+148  Prediction: 1046  T/F: F\n",
      "----------------------------------------\n",
      "Question: 46+82    Prediction: 128   T/F: T\n",
      "----------------------------------------\n",
      "Question: 193+40   Prediction: 234   T/F: F\n",
      "----------------------------------------\n",
      "Question: 705+126  Prediction: 829   T/F: F\n",
      "----------------------------------------\n",
      "Question: 78+803   Prediction: 891   T/F: F\n",
      "epoch: 151, val_loss: 0.3003, val_acc 0.8256\n",
      "epoch: 152, val_loss: 0.3011, val_acc 0.8257\n",
      "epoch: 153, val_loss: 0.3019, val_acc 0.8261\n",
      "epoch: 154, val_loss: 0.3031, val_acc 0.8269\n",
      "epoch: 155, val_loss: 0.3043, val_acc 0.8293\n",
      "epoch: 156, val_loss: 0.3056, val_acc 0.8287\n",
      "epoch: 157, val_loss: 0.3081, val_acc 0.8277\n",
      "epoch: 158, val_loss: 0.3110, val_acc 0.8269\n",
      "epoch: 159, val_loss: 0.3139, val_acc 0.8274\n",
      "epoch: 160, val_loss: 0.3179, val_acc 0.8274\n",
      "----------------------------------------\n",
      "Question: 216+85   Prediction: 301   T/F: T\n",
      "----------------------------------------\n",
      "Question: 260+373  Prediction: 63    T/F: F\n",
      "----------------------------------------\n",
      "Question: 22+96    Prediction: 118   T/F: T\n",
      "----------------------------------------\n",
      "Question: 5+671    Prediction: 677   T/F: F\n",
      "----------------------------------------\n",
      "Question: 75+46    Prediction: 121   T/F: T\n",
      "----------------------------------------\n",
      "Question: 92+563   Prediction: 654   T/F: F\n",
      "----------------------------------------\n",
      "Question: 83+40    Prediction: 123   T/F: T\n",
      "----------------------------------------\n",
      "Question: 146+3    Prediction: 140   T/F: F\n",
      "----------------------------------------\n",
      "Question: 969+251  Prediction: 1109  T/F: F\n",
      "----------------------------------------\n",
      "Question: 41+709   Prediction: 730   T/F: F\n",
      "epoch: 161, val_loss: 0.3213, val_acc 0.8260\n",
      "epoch: 162, val_loss: 0.3290, val_acc 0.8246\n",
      "epoch: 163, val_loss: 0.3323, val_acc 0.8246\n",
      "epoch: 164, val_loss: 0.3499, val_acc 0.8039\n",
      "epoch: 165, val_loss: 0.3382, val_acc 0.8117\n",
      "epoch: 166, val_loss: 0.3243, val_acc 0.8173\n",
      "epoch: 167, val_loss: 0.3228, val_acc 0.8170\n",
      "epoch: 168, val_loss: 0.3203, val_acc 0.8209\n",
      "epoch: 169, val_loss: 0.3204, val_acc 0.8203\n",
      "epoch: 170, val_loss: 0.3222, val_acc 0.8193\n",
      "----------------------------------------\n",
      "Question: 196+113  Prediction: 909   T/F: F\n",
      "----------------------------------------\n",
      "Question: 3+255    Prediction: 267   T/F: F\n",
      "----------------------------------------\n",
      "Question: 395+30   Prediction: 425   T/F: T\n",
      "----------------------------------------\n",
      "Question: 9+130    Prediction: 139   T/F: T\n",
      "----------------------------------------\n",
      "Question: 97+85    Prediction: 182   T/F: T\n",
      "----------------------------------------\n",
      "Question: 73+8     Prediction: 81    T/F: T\n",
      "----------------------------------------\n",
      "Question: 1+894    Prediction: 885   T/F: F\n",
      "----------------------------------------\n",
      "Question: 332+5    Prediction: 337   T/F: T\n",
      "----------------------------------------\n",
      "Question: 7+152    Prediction: 159   T/F: T\n",
      "----------------------------------------\n",
      "Question: 95+93    Prediction: 188   T/F: T\n",
      "epoch: 171, val_loss: 0.3230, val_acc 0.8204\n",
      "epoch: 172, val_loss: 0.3234, val_acc 0.8213\n",
      "epoch: 173, val_loss: 0.3256, val_acc 0.8227\n",
      "epoch: 174, val_loss: 0.3275, val_acc 0.8230\n",
      "epoch: 175, val_loss: 0.3300, val_acc 0.8227\n",
      "epoch: 176, val_loss: 0.3335, val_acc 0.8233\n",
      "epoch: 177, val_loss: 0.3376, val_acc 0.8240\n",
      "epoch: 178, val_loss: 0.3416, val_acc 0.8236\n",
      "epoch: 179, val_loss: 0.3444, val_acc 0.8239\n",
      "epoch: 180, val_loss: 0.3482, val_acc 0.8236\n",
      "----------------------------------------\n",
      "Question: 2+15     Prediction: 17    T/F: T\n",
      "----------------------------------------\n",
      "Question: 967+93   Prediction: 1050  T/F: F\n",
      "----------------------------------------\n",
      "Question: 14+2     Prediction: 16    T/F: T\n",
      "----------------------------------------\n",
      "Question: 4+512    Prediction: 516   T/F: T\n",
      "----------------------------------------\n",
      "Question: 2+183    Prediction: 185   T/F: T\n",
      "----------------------------------------\n",
      "Question: 0+715    Prediction: 715   T/F: T\n",
      "----------------------------------------\n",
      "Question: 525+20   Prediction: 526   T/F: F\n",
      "----------------------------------------\n",
      "Question: 3+515    Prediction: 518   T/F: T\n",
      "----------------------------------------\n",
      "Question: 246+2    Prediction: 248   T/F: T\n",
      "----------------------------------------\n",
      "Question: 4+152    Prediction: 157   T/F: F\n",
      "epoch: 181, val_loss: 0.3538, val_acc 0.8219\n",
      "epoch: 182, val_loss: 0.4690, val_acc 0.7737\n",
      "epoch: 183, val_loss: 0.3575, val_acc 0.8104\n",
      "epoch: 184, val_loss: 0.3453, val_acc 0.8139\n",
      "epoch: 185, val_loss: 0.3364, val_acc 0.8204\n",
      "epoch: 186, val_loss: 0.3382, val_acc 0.8176\n",
      "epoch: 187, val_loss: 0.3389, val_acc 0.8189\n",
      "epoch: 188, val_loss: 0.3405, val_acc 0.8189\n",
      "epoch: 189, val_loss: 0.3417, val_acc 0.8184\n",
      "epoch: 190, val_loss: 0.3429, val_acc 0.8177\n",
      "----------------------------------------\n",
      "Question: 1+7      Prediction: 8     T/F: T\n",
      "----------------------------------------\n",
      "Question: 27+985   Prediction: 1011  T/F: F\n",
      "----------------------------------------\n",
      "Question: 26+72    Prediction: 98    T/F: T\n",
      "----------------------------------------\n",
      "Question: 73+254   Prediction: 336   T/F: F\n",
      "----------------------------------------\n",
      "Question: 300+3    Prediction: 303   T/F: T\n",
      "----------------------------------------\n",
      "Question: 65+841   Prediction: 896   T/F: F\n",
      "----------------------------------------\n",
      "Question: 9+590    Prediction: 598   T/F: F\n",
      "----------------------------------------\n",
      "Question: 555+65   Prediction: 620   T/F: T\n",
      "----------------------------------------\n",
      "Question: 17+29    Prediction: 46    T/F: T\n",
      "----------------------------------------\n",
      "Question: 314+80   Prediction: 394   T/F: T\n",
      "epoch: 191, val_loss: 0.3444, val_acc 0.8184\n",
      "epoch: 192, val_loss: 0.3466, val_acc 0.8194\n",
      "epoch: 193, val_loss: 0.3483, val_acc 0.8220\n",
      "epoch: 194, val_loss: 0.3502, val_acc 0.8214\n",
      "epoch: 195, val_loss: 0.3531, val_acc 0.8220\n",
      "epoch: 196, val_loss: 0.3565, val_acc 0.8209\n",
      "epoch: 197, val_loss: 0.3597, val_acc 0.8219\n",
      "epoch: 198, val_loss: 0.3641, val_acc 0.8199\n",
      "epoch: 199, val_loss: 0.3678, val_acc 0.8210\n"
     ]
    }
   ],
   "source": [
    "for epoch in range(epochs):\n",
    "    X_, Y_ = shuffle(X_train, Y_train)\n",
    "    \n",
    "    for i in range(n_batches):\n",
    "        start = i * batch_size\n",
    "        end = start + batch_size\n",
    "        \n",
    "        sess.run(train_step, feed_dict={x:X_[start:end], t:Y_[start:end], n_batch:batch_size, is_training:True})\n",
    "    \n",
    "    val_loss = loss.eval(session=sess\n",
    "                         , feed_dict={x:X_validation, t:Y_validation, n_batch:N_validation, is_training:False})\n",
    "    val_acc = acc.eval(session=sess\n",
    "                       , feed_dict={x:X_validation, t:Y_validation, n_batch:N_validation, is_training:False})\n",
    "    \n",
    "    print(\"epoch: {}, val_loss: {:.4f}, val_acc {:.4f}\".format(epoch, val_loss, val_acc))\n",
    "    \n",
    "    \n",
    "    #Print prediction results for each 10 epoch\n",
    "    if epoch % 10 == 0:\n",
    "        for i in range(10):\n",
    "            index = np.random.randint(0, N_validation)\n",
    "            \n",
    "            question = X_validation[np.array([index])]\n",
    "            answer = Y_validation[np.array([index])]\n",
    "            prediction = y.eval(session=sess,\n",
    "                               feed_dict={x:question, n_batch:1, is_training:False})\n",
    "            \n",
    "            question = question.argmax(axis=-1)\n",
    "            answer = answer.argmax(axis=-1)\n",
    "            prediction = prediction.argmax(axis=-1)\n",
    "            \n",
    "            q = ''.join(indices_char[i] for i in question[0])\n",
    "            a = ''.join(indices_char[i] for i in answer[0])\n",
    "            p = ''.join(indices_char[i] for i in prediction[0])\n",
    "            \n",
    "            print('-' * 40)\n",
    "            print('Question:', q, ' Prediction:', p, ' T/F:', end=' ')\n",
    "            if a == p:\n",
    "                print('T')\n",
    "            else:\n",
    "                print('F')"
   ]
  },
  {
   "cell_type": "code",
   "execution_count": null,
   "metadata": {},
   "outputs": [],
   "source": []
  }
 ],
 "metadata": {
  "kernelspec": {
   "display_name": "Python 3",
   "language": "python",
   "name": "python3"
  },
  "language_info": {
   "codemirror_mode": {
    "name": "ipython",
    "version": 3
   },
   "file_extension": ".py",
   "mimetype": "text/x-python",
   "name": "python",
   "nbconvert_exporter": "python",
   "pygments_lexer": "ipython3",
   "version": "3.5.2"
  }
 },
 "nbformat": 4,
 "nbformat_minor": 2
}
